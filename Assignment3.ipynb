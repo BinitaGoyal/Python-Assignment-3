{
 "cells": [
  {
   "cell_type": "code",
   "execution_count": 6,
   "metadata": {},
   "outputs": [
    {
     "name": "stdout",
     "output_type": "stream",
     "text": [
      "0\n",
      "Number not acceptable. Pleae enter again\n",
      "0\n",
      "Number not acceptable. Pleae enter again\n",
      "0\n",
      "Number not acceptable. Pleae enter again\n",
      "4\n",
      "The code is wokring fine,the output is  1.25\n"
     ]
    }
   ],
   "source": [
    "# Task 1 Ques 1\n",
    "# 1.Write a function to compute 5/0 and use try/except to catch the exceptions.\n",
    "def div_func():\n",
    "    try:\n",
    "        num = int(input())\n",
    "        div = 5/num\n",
    "        print(\"The code is wokring fine,the output is \",div)\n",
    "    except:\n",
    "        print(\"Number not acceptable. Pleae enter again\")\n",
    "        div_func()\n",
    "        \n",
    "div_func()       "
   ]
  },
  {
   "cell_type": "code",
   "execution_count": 14,
   "metadata": {},
   "outputs": [
    {
     "name": "stdout",
     "output_type": "stream",
     "text": [
      "Americans  play Baseball\n",
      "Americans  play Cricket\n",
      "Americans  watch Baseball\n",
      "Americans  watch Cricket\n",
      "Indians play Baseball\n",
      "Indians play Cricket\n",
      "Indians watch Baseball\n",
      "Indians watch Cricket\n"
     ]
    }
   ],
   "source": [
    "# Task 1 Ques 2\n",
    "#2.Implement a Python program to generate all sentences where subject is in [\"Americans\",\"Indians\"] and verb is in [\"Play\", \"watch\"] and the object is in [\"Baseball\",\"cricket\"].\n",
    "#Hint: Subject,Verb and Object should be declared in the program as shown below.\n",
    "#subjects=[\"Americans \",\"Indians\"]\n",
    "#verbs=[\"play\",\"watch\"]\n",
    "#objects=[\"Baseball\",\"Cricket\"]\n",
    "#Output should come as below:\n",
    "#Americans play Baseball.\n",
    "#Americans play Cricket.\n",
    "#Americans watch Baseball.\n",
    "#Americans watch Cricket.\n",
    "#Indians play Baseball.\n",
    "#Indians play Cricket.\n",
    "#Indians watch Baseball.\n",
    "#Indians watch Cricket.\n",
    "subjects=[\"Americans \",\"Indians\"]\n",
    "verbs=[\"play\",\"watch\"]\n",
    "objec=[\"Baseball\",\"Cricket\"]\n",
    "sentence = [(s+\" \"+v +\" \"+o) for s in subjects for v in verbs for o in objec ]\n",
    "for l in sentence:\n",
    "    print(l)\n"
   ]
  },
  {
   "cell_type": "code",
   "execution_count": 4,
   "metadata": {},
   "outputs": [
    {
     "data": {
      "text/plain": [
       "array([[343,  49,   7,   1],\n",
       "       [ 64,  16,   4,   1],\n",
       "       [ 27,   9,   3,   1],\n",
       "       [125,  25,   5,   1]])"
      ]
     },
     "execution_count": 4,
     "metadata": {},
     "output_type": "execute_result"
    }
   ],
   "source": [
    "#Task 2 Ques 1\n",
    "#Write a function so that the columns of the output matrix are powers of the input vector.\n",
    "#The order of the powers is determined by the increasing boolean argument. Specifically, when increasing is False, the i-th output column is the input vector raised element-wise to the power of N - i - 1.\n",
    "#HINT: Such a matrix with a geometric progression in each row is named for Alexandre-Theophile Vandermonde.\n",
    "import numpy as np\n",
    "l = [7,4,3,5]\n",
    "np.vander(l)"
   ]
  }
 ],
 "metadata": {
  "kernelspec": {
   "display_name": "Python 3",
   "language": "python",
   "name": "python3"
  },
  "language_info": {
   "codemirror_mode": {
    "name": "ipython",
    "version": 3
   },
   "file_extension": ".py",
   "mimetype": "text/x-python",
   "name": "python",
   "nbconvert_exporter": "python",
   "pygments_lexer": "ipython3",
   "version": "3.7.6"
  }
 },
 "nbformat": 4,
 "nbformat_minor": 4
}
